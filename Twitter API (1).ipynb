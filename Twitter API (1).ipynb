{
 "cells": [
  {
   "cell_type": "code",
   "execution_count": 3,
   "id": "1aa15cb0-85f8-47a4-82a7-082787b1fd39",
   "metadata": {},
   "outputs": [
    {
     "name": "stdout",
     "output_type": "stream",
     "text": [
      "Loaded Data:\n",
      "   target         ids                          date      flag  \\\n",
      "0       0  1467810369  Mon Apr 06 22:19:45 PDT 2009  NO_QUERY   \n",
      "1       0  1467810672  Mon Apr 06 22:19:49 PDT 2009  NO_QUERY   \n",
      "2       0  1467810917  Mon Apr 06 22:19:53 PDT 2009  NO_QUERY   \n",
      "3       0  1467811184  Mon Apr 06 22:19:57 PDT 2009  NO_QUERY   \n",
      "4       0  1467811193  Mon Apr 06 22:19:57 PDT 2009  NO_QUERY   \n",
      "\n",
      "              user                                               text  \n",
      "0  _TheSpecialOne_  @switchfoot http://twitpic.com/2y1zl - Awww, t...  \n",
      "1    scotthamilton  is upset that he can't update his Facebook by ...  \n",
      "2         mattycus  @Kenichan I dived many times for the ball. Man...  \n",
      "3          ElleCTF    my whole body feels itchy and like its on fire   \n",
      "4           Karoli  @nationwideclass no, it's not behaving at all....  \n"
     ]
    }
   ],
   "source": [
    "import pandas as pd\n",
    "#Load the data\n",
    "file_path = r'C:\\Users\\BKand\\Twitter API Project\\training.1600000.processed.noemoticon.csv'\n",
    "df = pd.read_csv(file_path, encoding='latin1', header=None)\n",
    "df.columns = ['target', 'ids', 'date', 'flag', 'user', 'text']\n",
    "print(\"Loaded Data:\")\n",
    "print(df.head())\n"
   ]
  },
  {
   "cell_type": "code",
   "execution_count": 4,
   "id": "1c46b3c6-e067-4617-93c4-d010b0d789ca",
   "metadata": {},
   "outputs": [
    {
     "name": "stdout",
     "output_type": "stream",
     "text": [
      "Cleaned Data:\n",
      "                                                text  \\\n",
      "0  @switchfoot http://twitpic.com/2y1zl - Awww, t...   \n",
      "1  is upset that he can't update his Facebook by ...   \n",
      "2  @Kenichan I dived many times for the ball. Man...   \n",
      "3    my whole body feels itchy and like its on fire    \n",
      "4  @nationwideclass no, it's not behaving at all....   \n",
      "\n",
      "                                        Cleaned_Text  \n",
      "0     Awww thats a bummer  You shoulda got David ...  \n",
      "1  is upset that he cant update his Facebook by t...  \n",
      "2   I dived many times for the ball Managed to sa...  \n",
      "3    my whole body feels itchy and like its on fire   \n",
      "4   no its not behaving at all im mad why am i he...  \n"
     ]
    }
   ],
   "source": [
    "# Clean the collected data\n",
    "import re\n",
    "def clean_tweet(text):\n",
    "    text = re.sub(r'http\\S+', '', text)  # Remove URLs\n",
    "    text = re.sub(r'@\\S+', '', text)  # Remove mentions\n",
    "    text = re.sub(r'[^A-Za-z0-9\\s]+', '', text)  # Remove special characters\n",
    "    return text\n",
    "\n",
    "df['Cleaned_Text'] = df['text'].apply(clean_tweet)\n",
    "print(\"Cleaned Data:\")\n",
    "print(df[['text', 'Cleaned_Text']].head())"
   ]
  },
  {
   "cell_type": "code",
   "execution_count": 6,
   "id": "210629d4-8a11-4997-98ae-c9aea1352527",
   "metadata": {},
   "outputs": [
    {
     "name": "stdout",
     "output_type": "stream",
     "text": [
      "                                        Cleaned_Text Sentiment\n",
      "0     Awww thats a bummer  You shoulda got David ...  Positive\n",
      "1  is upset that he cant update his Facebook by t...   Neutral\n",
      "2   I dived many times for the ball Managed to sa...  Positive\n",
      "3    my whole body feels itchy and like its on fire   Positive\n",
      "4   no its not behaving at all im mad why am i he...  Negative\n",
      "Index(['target', 'ids', 'date', 'flag', 'user', 'text', 'Cleaned_Text',\n",
      "       'Sentiment'],\n",
      "      dtype='object')\n"
     ]
    }
   ],
   "source": [
    "# Perform sentiment analysis\n",
    "\n",
    "from textblob import TextBlob\n",
    "\n",
    "# Perform sentiment analysis\n",
    "def get_sentiment(text):\n",
    "    analysis = TextBlob(text)\n",
    "    if analysis.sentiment.polarity > 0:\n",
    "        return 'Positive'\n",
    "    elif analysis.sentiment.polarity == 0:\n",
    "        return 'Neutral'\n",
    "    else:\n",
    "        return 'Negative'\n",
    "\n",
    "df['Sentiment'] = df['Cleaned_Text'].apply(get_sentiment)\n",
    "\n",
    "# Verify the Sentiment column\n",
    "print(df[['Cleaned_Text', 'Sentiment']].head())\n",
    "print(df.columns)"
   ]
  },
  {
   "cell_type": "code",
   "execution_count": 81,
   "id": "d2d79756-018b-48ba-b192-2192520201f9",
   "metadata": {},
   "outputs": [
    {
     "name": "stdout",
     "output_type": "stream",
     "text": [
      "Sentiment Counts:\n",
      "Sentiment\n",
      "Positive    686674\n",
      "Neutral     569833\n",
      "Negative    343493\n",
      "Name: count, dtype: int64\n"
     ]
    },
    {
     "data": {
      "image/png": "[encoded data removed]",
      "text/plain": [
       "<Figure size 800x600 with 1 Axes>"
      ]
     },
     "metadata": {},
     "output_type": "display_data"
    }
   ],
   "source": [
    "# Visualize the results\n",
    "sentiment_counts = df['Sentiment'].value_counts()\n",
    "print(\"Sentiment Counts:\")\n",
    "print(sentiment_counts)\n",
    "\n",
    "# Adjust color list based on the number of unique sentiments\n",
    "unique_sentiments = sentiment_counts.index\n",
    "colors = ['green', 'blue', 'red'][:len(unique_sentiments)]\n",
    "\n",
    "plt.figure(figsize=(8, 6))\n",
    "sentiment_counts.plot(kind='bar', color=colors)\n",
    "plt.title('Sentiment Analysis on Tweets')\n",
    "plt.xlabel('Sentiment')\n",
    "plt.ylabel('Number of Tweets')\n",
    "plt.show()"
   ]
  },
  {
   "cell_type": "code",
   "execution_count": 8,
   "id": "dffac8d6-c064-47fa-b0ff-54b64bcf99fd",
   "metadata": {},
   "outputs": [
    {
     "name": "stdout",
     "output_type": "stream",
     "text": [
      "Total tweets: 1600000\n",
      "Positive tweets: 686674 (21.46%)\n",
      "Neutral tweets: 569833 (17.81%)\n",
      "Negative tweets: 343493 (10.73%)\n"
     ]
    }
   ],
   "source": [
    "total_tweets = len(df)\n",
    "positive_tweets = len(df[df['Sentiment'] == 'Positive'])\n",
    "neutral_tweets = len(df[df['Sentiment'] == 'Neutral'])\n",
    "negative_tweets = len(df[df['Sentiment'] == 'Negative'])\n",
    "\n",
    "print(f\"Total tweets: {total_tweets}\")\n",
    "print(f\"Positive tweets: {positive_tweets} ({positive_tweets/total_tweets*50:.2f}%)\")\n",
    "print(f\"Neutral tweets: {neutral_tweets} ({neutral_tweets/total_tweets*50:.2f}%)\")\n",
    "print(f\"Negative tweets: {negative_tweets} ({negative_tweets/total_tweets*50:.2f}%)\")\n"
   ]
  },
  {
   "cell_type": "code",
   "execution_count": 9,
   "id": "03bd248b-d013-48db-9011-e17badb9c4be",
   "metadata": {},
   "outputs": [],
   "source": [
    "from sklearn.model_selection import train_test_split"
   ]
  },
  {
   "cell_type": "code",
   "execution_count": 10,
   "id": "e1e3584b-d6de-4600-8c05-b00e1ebde701",
   "metadata": {},
   "outputs": [],
   "source": [
    "df['Sentiment_Label'] = df['Sentiment'].map({'Positive': 1, 'Neutral': 0, 'Negative': -1})"
   ]
  },
  {
   "cell_type": "code",
   "execution_count": 11,
   "id": "828d3393-6a4b-4e7e-9775-5ee71daa851f",
   "metadata": {},
   "outputs": [],
   "source": [
    "X = df['Cleaned_Text']\n",
    "y = df['Sentiment_Label']\n",
    "X_train, X_test, y_train, y_test = train_test_split(X, y, test_size=0.2, random_state=42)"
   ]
  },
  {
   "cell_type": "code",
   "execution_count": 12,
   "id": "25998730-d4bd-4837-a148-bca65c259c71",
   "metadata": {},
   "outputs": [
    {
     "name": "stdout",
     "output_type": "stream",
     "text": [
      "Training set size: 1280000\n",
      "Testing set size: 320000\n"
     ]
    }
   ],
   "source": [
    "print(f\"Training set size: {len(X_train)}\")\n",
    "print(f\"Testing set size: {len(X_test)}\")"
   ]
  },
  {
   "cell_type": "code",
   "execution_count": 15,
   "id": "06b05624-9a83-43ea-bcd2-3286f02145b3",
   "metadata": {},
   "outputs": [
    {
     "name": "stdout",
     "output_type": "stream",
     "text": [
      "Model Accuracy: 96.88%\n"
     ]
    }
   ],
   "source": [
    "from sklearn.linear_model import LogisticRegression\n",
    "from sklearn.pipeline import Pipeline\n",
    "from sklearn.feature_extraction.text import CountVectorizer\n",
    "\n",
    "# Create a pipeline with a CountVectorizer and a Logistic Regression classifier\n",
    "pipeline = Pipeline([\n",
    "    ('vectorizer', CountVectorizer()),\n",
    "    ('classifier', LogisticRegression(solver='liblinear'))  # Use a different solver\n",
    "])\n",
    "\n",
    "# Train the model\n",
    "pipeline.fit(X_train, y_train)\n",
    "\n",
    "# Evaluate the model\n",
    "accuracy = pipeline.score(X_test, y_test)\n",
    "print(f\"Model Accuracy: {accuracy * 100:.2f}%\")\n"
   ]
  },
  {
   "cell_type": "code",
   "execution_count": null,
   "id": "3f339912-57f1-4f23-8f42-124995e1266a",
   "metadata": {},
   "outputs": [],
   "source": []
  }
 ],
 "metadata": {
  "kernelspec": {
   "display_name": "Python 3 (ipykernel)",
   "language": "python",
   "name": "python3"
  },
  "language_info": {
   "codemirror_mode": {
    "name": "ipython",
    "version": 3
   },
   "file_extension": ".py",
   "mimetype": "text/x-python",
   "name": "python",
   "nbconvert_exporter": "python",
   "pygments_lexer": "ipython3",
   "version": "3.11.0"
  }
 },
 "nbformat": 4,
 "nbformat_minor": 5
}
